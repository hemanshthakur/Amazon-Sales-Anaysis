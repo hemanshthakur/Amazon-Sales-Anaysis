{
 "cells": [
  {
   "cell_type": "markdown",
   "id": "307cb75b-270b-42f9-815d-9362865749c3",
   "metadata": {},
   "source": [
    "# Initial Prep\n",
    "## Importing Data and Libraries"
   ]
  },
  {
   "cell_type": "code",
   "execution_count": 73,
   "id": "e970ed37-c98b-4db7-8089-43d2ca5f1dfb",
   "metadata": {},
   "outputs": [],
   "source": [
    "# Importing Essential Libraries\n",
    "import numpy as np\n",
    "import pandas as pd\n",
    "import matplotlib.pyplot as plt\n",
    "import seaborn as sns\n",
    "from matplotlib.ticker import ScalarFormatter\n",
    "import matplotlib.dates as mdates\n",
    "\n",
    "# Importing Amazon Sale Report.csv\n",
    "df = pd.read_csv('Amazon Sale Report.csv')"
   ]
  },
  {
   "cell_type": "markdown",
   "id": "cce79b5a-4a46-4b39-a5bc-56749981ccc7",
   "metadata": {},
   "source": [
    "## Data Cleaning"
   ]
  },
  {
   "cell_type": "code",
   "execution_count": 13,
   "id": "98b94ac2-8dbc-4c99-a860-f496f7293446",
   "metadata": {},
   "outputs": [
    {
     "name": "stdout",
     "output_type": "stream",
     "text": [
      "<class 'pandas.core.frame.DataFrame'>\n",
      "RangeIndex: 128976 entries, 0 to 128975\n",
      "Data columns (total 17 columns):\n",
      " #   Column              Non-Null Count   Dtype  \n",
      "---  ------              --------------   -----  \n",
      " 0   Order ID            128976 non-null  object \n",
      " 1   Date                128976 non-null  object \n",
      " 2   Status              128976 non-null  object \n",
      " 3   Fulfilment          128976 non-null  object \n",
      " 4   Sales Channel       128976 non-null  object \n",
      " 5   ship-service-level  128976 non-null  object \n",
      " 6   Category            128976 non-null  object \n",
      " 7   Size                128976 non-null  object \n",
      " 8   Courier Status      128976 non-null  object \n",
      " 9   Qty                 128976 non-null  int64  \n",
      " 10  currency            121176 non-null  object \n",
      " 11  Amount              121176 non-null  float64\n",
      " 12  ship-city           128941 non-null  object \n",
      " 13  ship-state          128941 non-null  object \n",
      " 14  ship-postal-code    128941 non-null  float64\n",
      " 15  ship-country        128941 non-null  object \n",
      " 16  B2B                 128976 non-null  bool   \n",
      "dtypes: bool(1), float64(2), int64(1), object(13)\n",
      "memory usage: 15.9+ MB\n"
     ]
    },
    {
     "data": {
      "text/html": [
       "<div>\n",
       "<style scoped>\n",
       "    .dataframe tbody tr th:only-of-type {\n",
       "        vertical-align: middle;\n",
       "    }\n",
       "\n",
       "    .dataframe tbody tr th {\n",
       "        vertical-align: top;\n",
       "    }\n",
       "\n",
       "    .dataframe thead th {\n",
       "        text-align: right;\n",
       "    }\n",
       "</style>\n",
       "<table border=\"1\" class=\"dataframe\">\n",
       "  <thead>\n",
       "    <tr style=\"text-align: right;\">\n",
       "      <th></th>\n",
       "      <th>Date</th>\n",
       "      <th>Status</th>\n",
       "      <th>Fulfilment</th>\n",
       "      <th>Sales Channel</th>\n",
       "      <th>ship-service-level</th>\n",
       "      <th>Category</th>\n",
       "      <th>Size</th>\n",
       "      <th>Courier Status</th>\n",
       "      <th>Qty</th>\n",
       "      <th>currency</th>\n",
       "      <th>Amount</th>\n",
       "      <th>ship-city</th>\n",
       "      <th>ship-state</th>\n",
       "      <th>ship-postal-code</th>\n",
       "      <th>ship-country</th>\n",
       "      <th>B2B</th>\n",
       "    </tr>\n",
       "    <tr>\n",
       "      <th>Order ID</th>\n",
       "      <th></th>\n",
       "      <th></th>\n",
       "      <th></th>\n",
       "      <th></th>\n",
       "      <th></th>\n",
       "      <th></th>\n",
       "      <th></th>\n",
       "      <th></th>\n",
       "      <th></th>\n",
       "      <th></th>\n",
       "      <th></th>\n",
       "      <th></th>\n",
       "      <th></th>\n",
       "      <th></th>\n",
       "      <th></th>\n",
       "      <th></th>\n",
       "    </tr>\n",
       "  </thead>\n",
       "  <tbody>\n",
       "    <tr>\n",
       "      <th>405-8078784-5731545</th>\n",
       "      <td>04-30-22</td>\n",
       "      <td>Cancelled</td>\n",
       "      <td>Merchant</td>\n",
       "      <td>Amazon.in</td>\n",
       "      <td>Standard</td>\n",
       "      <td>T-shirt</td>\n",
       "      <td>S</td>\n",
       "      <td>On the Way</td>\n",
       "      <td>0</td>\n",
       "      <td>INR</td>\n",
       "      <td>647.62</td>\n",
       "      <td>MUMBAI</td>\n",
       "      <td>MAHARASHTRA</td>\n",
       "      <td>400081.0</td>\n",
       "      <td>IN</td>\n",
       "      <td>False</td>\n",
       "    </tr>\n",
       "    <tr>\n",
       "      <th>171-9198151-1101146</th>\n",
       "      <td>04-30-22</td>\n",
       "      <td>Shipped - Delivered to Buyer</td>\n",
       "      <td>Merchant</td>\n",
       "      <td>Amazon.in</td>\n",
       "      <td>Standard</td>\n",
       "      <td>Shirt</td>\n",
       "      <td>3XL</td>\n",
       "      <td>Shipped</td>\n",
       "      <td>1</td>\n",
       "      <td>INR</td>\n",
       "      <td>406.00</td>\n",
       "      <td>BENGALURU</td>\n",
       "      <td>KARNATAKA</td>\n",
       "      <td>560085.0</td>\n",
       "      <td>IN</td>\n",
       "      <td>False</td>\n",
       "    </tr>\n",
       "    <tr>\n",
       "      <th>404-0687676-7273146</th>\n",
       "      <td>04-30-22</td>\n",
       "      <td>Shipped</td>\n",
       "      <td>Amazon</td>\n",
       "      <td>Amazon.in</td>\n",
       "      <td>Expedited</td>\n",
       "      <td>Shirt</td>\n",
       "      <td>XL</td>\n",
       "      <td>Shipped</td>\n",
       "      <td>1</td>\n",
       "      <td>INR</td>\n",
       "      <td>329.00</td>\n",
       "      <td>NAVI MUMBAI</td>\n",
       "      <td>MAHARASHTRA</td>\n",
       "      <td>410210.0</td>\n",
       "      <td>IN</td>\n",
       "      <td>True</td>\n",
       "    </tr>\n",
       "    <tr>\n",
       "      <th>403-9615377-8133951</th>\n",
       "      <td>04-30-22</td>\n",
       "      <td>Cancelled</td>\n",
       "      <td>Merchant</td>\n",
       "      <td>Amazon.in</td>\n",
       "      <td>Standard</td>\n",
       "      <td>Blazzer</td>\n",
       "      <td>L</td>\n",
       "      <td>On the Way</td>\n",
       "      <td>0</td>\n",
       "      <td>INR</td>\n",
       "      <td>753.33</td>\n",
       "      <td>PUDUCHERRY</td>\n",
       "      <td>PUDUCHERRY</td>\n",
       "      <td>605008.0</td>\n",
       "      <td>IN</td>\n",
       "      <td>False</td>\n",
       "    </tr>\n",
       "    <tr>\n",
       "      <th>407-1069790-7240320</th>\n",
       "      <td>04-30-22</td>\n",
       "      <td>Shipped</td>\n",
       "      <td>Amazon</td>\n",
       "      <td>Amazon.in</td>\n",
       "      <td>Expedited</td>\n",
       "      <td>Trousers</td>\n",
       "      <td>3XL</td>\n",
       "      <td>Shipped</td>\n",
       "      <td>1</td>\n",
       "      <td>INR</td>\n",
       "      <td>574.00</td>\n",
       "      <td>CHENNAI</td>\n",
       "      <td>TAMIL NADU</td>\n",
       "      <td>600073.0</td>\n",
       "      <td>IN</td>\n",
       "      <td>False</td>\n",
       "    </tr>\n",
       "    <tr>\n",
       "      <th>...</th>\n",
       "      <td>...</td>\n",
       "      <td>...</td>\n",
       "      <td>...</td>\n",
       "      <td>...</td>\n",
       "      <td>...</td>\n",
       "      <td>...</td>\n",
       "      <td>...</td>\n",
       "      <td>...</td>\n",
       "      <td>...</td>\n",
       "      <td>...</td>\n",
       "      <td>...</td>\n",
       "      <td>...</td>\n",
       "      <td>...</td>\n",
       "      <td>...</td>\n",
       "      <td>...</td>\n",
       "      <td>...</td>\n",
       "    </tr>\n",
       "    <tr>\n",
       "      <th>406-6001380-7673107</th>\n",
       "      <td>05-31-22</td>\n",
       "      <td>Shipped</td>\n",
       "      <td>Amazon</td>\n",
       "      <td>Amazon.in</td>\n",
       "      <td>Expedited</td>\n",
       "      <td>Shirt</td>\n",
       "      <td>XL</td>\n",
       "      <td>Shipped</td>\n",
       "      <td>1</td>\n",
       "      <td>INR</td>\n",
       "      <td>517.00</td>\n",
       "      <td>HYDERABAD</td>\n",
       "      <td>TELANGANA</td>\n",
       "      <td>500013.0</td>\n",
       "      <td>IN</td>\n",
       "      <td>False</td>\n",
       "    </tr>\n",
       "    <tr>\n",
       "      <th>402-9551604-7544318</th>\n",
       "      <td>05-31-22</td>\n",
       "      <td>Shipped</td>\n",
       "      <td>Amazon</td>\n",
       "      <td>Amazon.in</td>\n",
       "      <td>Expedited</td>\n",
       "      <td>T-shirt</td>\n",
       "      <td>M</td>\n",
       "      <td>Shipped</td>\n",
       "      <td>1</td>\n",
       "      <td>INR</td>\n",
       "      <td>999.00</td>\n",
       "      <td>GURUGRAM</td>\n",
       "      <td>HARYANA</td>\n",
       "      <td>122004.0</td>\n",
       "      <td>IN</td>\n",
       "      <td>False</td>\n",
       "    </tr>\n",
       "    <tr>\n",
       "      <th>407-9547469-3152358</th>\n",
       "      <td>05-31-22</td>\n",
       "      <td>Shipped</td>\n",
       "      <td>Amazon</td>\n",
       "      <td>Amazon.in</td>\n",
       "      <td>Expedited</td>\n",
       "      <td>Blazzer</td>\n",
       "      <td>XXL</td>\n",
       "      <td>Shipped</td>\n",
       "      <td>1</td>\n",
       "      <td>INR</td>\n",
       "      <td>690.00</td>\n",
       "      <td>HYDERABAD</td>\n",
       "      <td>TELANGANA</td>\n",
       "      <td>500049.0</td>\n",
       "      <td>IN</td>\n",
       "      <td>False</td>\n",
       "    </tr>\n",
       "    <tr>\n",
       "      <th>402-6184140-0545956</th>\n",
       "      <td>05-31-22</td>\n",
       "      <td>Shipped</td>\n",
       "      <td>Amazon</td>\n",
       "      <td>Amazon.in</td>\n",
       "      <td>Expedited</td>\n",
       "      <td>T-shirt</td>\n",
       "      <td>XS</td>\n",
       "      <td>Shipped</td>\n",
       "      <td>1</td>\n",
       "      <td>INR</td>\n",
       "      <td>1199.00</td>\n",
       "      <td>Halol</td>\n",
       "      <td>Gujarat</td>\n",
       "      <td>389350.0</td>\n",
       "      <td>IN</td>\n",
       "      <td>False</td>\n",
       "    </tr>\n",
       "    <tr>\n",
       "      <th>408-7436540-8728312</th>\n",
       "      <td>05-31-22</td>\n",
       "      <td>Shipped</td>\n",
       "      <td>Amazon</td>\n",
       "      <td>Amazon.in</td>\n",
       "      <td>Expedited</td>\n",
       "      <td>T-shirt</td>\n",
       "      <td>S</td>\n",
       "      <td>Shipped</td>\n",
       "      <td>1</td>\n",
       "      <td>INR</td>\n",
       "      <td>696.00</td>\n",
       "      <td>Raipur</td>\n",
       "      <td>CHHATTISGARH</td>\n",
       "      <td>492014.0</td>\n",
       "      <td>IN</td>\n",
       "      <td>False</td>\n",
       "    </tr>\n",
       "  </tbody>\n",
       "</table>\n",
       "<p>128976 rows × 16 columns</p>\n",
       "</div>"
      ],
      "text/plain": [
       "                         Date                        Status Fulfilment  ... ship-postal-code ship-country    B2B\n",
       "Order ID                                                                ...                                     \n",
       "405-8078784-5731545  04-30-22                     Cancelled   Merchant  ...         400081.0           IN  False\n",
       "171-9198151-1101146  04-30-22  Shipped - Delivered to Buyer   Merchant  ...         560085.0           IN  False\n",
       "404-0687676-7273146  04-30-22                       Shipped     Amazon  ...         410210.0           IN   True\n",
       "403-9615377-8133951  04-30-22                     Cancelled   Merchant  ...         605008.0           IN  False\n",
       "407-1069790-7240320  04-30-22                       Shipped     Amazon  ...         600073.0           IN  False\n",
       "...                       ...                           ...        ...  ...              ...          ...    ...\n",
       "406-6001380-7673107  05-31-22                       Shipped     Amazon  ...         500013.0           IN  False\n",
       "402-9551604-7544318  05-31-22                       Shipped     Amazon  ...         122004.0           IN  False\n",
       "407-9547469-3152358  05-31-22                       Shipped     Amazon  ...         500049.0           IN  False\n",
       "402-6184140-0545956  05-31-22                       Shipped     Amazon  ...         389350.0           IN  False\n",
       "408-7436540-8728312  05-31-22                       Shipped     Amazon  ...         492014.0           IN  False\n",
       "\n",
       "[128976 rows x 16 columns]"
      ]
     },
     "execution_count": 13,
     "metadata": {},
     "output_type": "execute_result"
    }
   ],
   "source": [
    "df.info()\n",
    "\n",
    "# Setting 'Order ID' as Index for its uniqueness per order\n",
    "df.set_index('Order ID')"
   ]
  },
  {
   "cell_type": "code",
   "execution_count": 15,
   "id": "93d37bce-4512-4ef8-b36c-c0d9dda552d5",
   "metadata": {},
   "outputs": [
    {
     "name": "stdout",
     "output_type": "stream",
     "text": [
      "<class 'pandas.core.frame.DataFrame'>\n",
      "RangeIndex: 128976 entries, 0 to 128975\n",
      "Data columns (total 17 columns):\n",
      " #   Column              Non-Null Count   Dtype  \n",
      "---  ------              --------------   -----  \n",
      " 0   Order ID            128976 non-null  object \n",
      " 1   Date                128976 non-null  object \n",
      " 2   Status              128976 non-null  object \n",
      " 3   Fulfilment          128976 non-null  object \n",
      " 4   Sales Channel       128976 non-null  object \n",
      " 5   ship-service-level  128976 non-null  object \n",
      " 6   Category            128976 non-null  object \n",
      " 7   Size                128976 non-null  object \n",
      " 8   Courier Status      128976 non-null  object \n",
      " 9   Qty                 128976 non-null  int64  \n",
      " 10  currency            121176 non-null  object \n",
      " 11  Amount              121176 non-null  float64\n",
      " 12  ship-city           128941 non-null  object \n",
      " 13  ship-state          128941 non-null  object \n",
      " 14  ship-postal-code    128941 non-null  float64\n",
      " 15  ship-country        128941 non-null  object \n",
      " 16  B2B                 128976 non-null  bool   \n",
      "dtypes: bool(1), float64(2), int64(1), object(13)\n",
      "memory usage: 15.9+ MB\n"
     ]
    }
   ],
   "source": [
    "# Dropping useless and blank Columns \n",
    "df.drop(['index','fulfilled-by', 'New', 'PendingS'],axis = 1, inplace = True )"
   ]
  },
  {
   "cell_type": "code",
   "execution_count": 16,
   "id": "d13d3a37-03b5-47fc-931b-28d011b61922",
   "metadata": {},
   "outputs": [
    {
     "name": "stdout",
     "output_type": "stream",
     "text": [
      "<class 'pandas.core.frame.DataFrame'>\n",
      "RangeIndex: 128976 entries, 0 to 128975\n",
      "Data columns (total 17 columns):\n",
      " #   Column              Non-Null Count   Dtype  \n",
      "---  ------              --------------   -----  \n",
      " 0   Order ID            128976 non-null  object \n",
      " 1   Date                128976 non-null  object \n",
      " 2   Status              128976 non-null  object \n",
      " 3   Fulfilment          128976 non-null  object \n",
      " 4   Sales Channel       128976 non-null  object \n",
      " 5   ship-service-level  128976 non-null  object \n",
      " 6   Category            128976 non-null  object \n",
      " 7   Size                128976 non-null  object \n",
      " 8   Courier Status      128976 non-null  object \n",
      " 9   Qty                 128976 non-null  int64  \n",
      " 10  currency            121176 non-null  object \n",
      " 11  Amount              121176 non-null  float64\n",
      " 12  ship-city           128941 non-null  object \n",
      " 13  ship-state          128941 non-null  object \n",
      " 14  ship-postal-code    128941 non-null  float64\n",
      " 15  ship-country        128941 non-null  object \n",
      " 16  B2B                 128976 non-null  bool   \n",
      "dtypes: bool(1), float64(2), int64(1), object(13)\n",
      "memory usage: 15.9+ MB\n"
     ]
    }
   ],
   "source": [
    "df.info()"
   ]
  },
  {
   "cell_type": "code",
   "execution_count": 17,
   "id": "d368fe4a-8a22-47ef-b82f-c514719b8991",
   "metadata": {},
   "outputs": [
    {
     "data": {
      "text/plain": [
       "Order ID                 0\n",
       "Date                     0\n",
       "Status                   0\n",
       "Fulfilment               0\n",
       "Sales Channel            0\n",
       "ship-service-level       0\n",
       "Category                 0\n",
       "Size                     0\n",
       "Courier Status           0\n",
       "Qty                      0\n",
       "currency              7800\n",
       "Amount                7800\n",
       "ship-city               35\n",
       "ship-state              35\n",
       "ship-postal-code        35\n",
       "ship-country            35\n",
       "B2B                      0\n",
       "dtype: int64"
      ]
     },
     "execution_count": 17,
     "metadata": {},
     "output_type": "execute_result"
    }
   ],
   "source": [
    "# Checking for null values in each columns\n",
    "pd.isnull(df).sum()"
   ]
  },
  {
   "cell_type": "code",
   "execution_count": 18,
   "id": "bad5399b-048f-45d4-a151-23fb19851195",
   "metadata": {},
   "outputs": [
    {
     "data": {
      "text/plain": [
       "Order ID               0\n",
       "Date                   0\n",
       "Status                 0\n",
       "Fulfilment             0\n",
       "Sales Channel          0\n",
       "ship-service-level     0\n",
       "Category               0\n",
       "Size                   0\n",
       "Courier Status         0\n",
       "Qty                    0\n",
       "currency               0\n",
       "Amount                 0\n",
       "ship-city             33\n",
       "ship-state            33\n",
       "ship-postal-code      33\n",
       "ship-country          33\n",
       "B2B                    0\n",
       "dtype: int64"
      ]
     },
     "execution_count": 18,
     "metadata": {},
     "output_type": "execute_result"
    }
   ],
   "source": [
    "# Dropping Null Values\n",
    "df.dropna(subset=['Amount','currency'], inplace=True)\n",
    "pd.isnull(df).sum()"
   ]
  },
  {
   "cell_type": "code",
   "execution_count": 78,
   "id": "29ac6e79-d8a6-45c3-b736-50e702d9bca0",
   "metadata": {},
   "outputs": [],
   "source": [
    "df['Date'] = pd.to_datetime(df['Date'])\n",
    "df['ship-postal-code'] = df['ship-postal-code'].fillna(0).astype(int)\n",
    "df['Amount'] = pd.to_numeric(df['Amount'])"
   ]
  },
  {
   "cell_type": "markdown",
   "id": "0c5a7b1e-2721-4b42-b433-8aef0a980c22",
   "metadata": {},
   "source": [
    "# Sales Overview\n",
    "## Overall Sales Performance\n",
    "### Daily Sales Overview (Line Chart)"
   ]
  },
  {
   "cell_type": "code",
   "execution_count": 157,
   "id": "9d1a59f6-460b-46b7-81f6-a4edcad05e37",
   "metadata": {},
   "outputs": [
    {
     "data": {
      "image/png": "[encoded data removed]",
      "text/plain": [
       "<Figure size 1000x600 with 1 Axes>"
      ]
     },
     "metadata": {},
     "output_type": "display_data"
    }
   ],
   "source": [
    "# Group by date and sum the 'Amount'\n",
    "sales_over_time = df.groupby('Date')['Amount'].sum().reset_index()\n",
    "\n",
    "\n",
    "fig, ax = plt.subplots(figsize=(10, 6))\n",
    "ax.plot(sales_over_time['Date'], sales_over_time['Amount'],color='red')  \n",
    "\n",
    "# 15-day interval for x-axis labels\n",
    "ax.xaxis.set_major_locator(mdates.DayLocator(interval=15))\n",
    "ax.xaxis.set_major_formatter(mdates.DateFormatter('%d-%m-%Y')) \n",
    "# Title, labels, and grid\n",
    "plt.title('Total Sales Over Time (15 Day Intervals)')\n",
    "plt.xlabel('Date')\n",
    "plt.ylabel('Sales Amount')\n",
    "plt.grid(True)\n",
    "formatter = ScalarFormatter(useMathText=True)\n",
    "formatter.set_scientific(False)\n",
    "plt.gca().yaxis.set_major_formatter(formatter)\n",
    "plt.show()"
   ]
  },
  {
   "cell_type": "markdown",
   "id": "0d245e5c-7359-4f05-a6a7-2cf1cf48b562",
   "metadata": {},
   "source": [
    "### Monthly Sales Overview (Bar Chart)"
   ]
  },
  {
   "cell_type": "code",
   "execution_count": 155,
   "id": "48f33ae6-7623-4c8f-980a-58f68510a2c3",
   "metadata": {},
   "outputs": [
    {
     "data": {
      "image/png": "[encoded data removed]",
      "text/plain": [
       "<Figure size 1200x800 with 1 Axes>"
      ]
     },
     "metadata": {},
     "output_type": "display_data"
    }
   ],
   "source": [
    "# Taking months from Dates\n",
    "monthly_sales = df.resample('M', on='Date')['Amount'].sum()\n",
    "monthly_sales.index = monthly_sales.index.strftime('%m-%y')\n",
    "fig, ax = plt.subplots(figsize=(12, 8))  # Create figure and axes for more control\n",
    "monthly_sales.plot(kind='bar', color='green', ax=ax, title='Monthly Sales Trend')\n",
    "plt.ylabel('Total Sales')\n",
    "plt.xlabel('Month (MM-YY)')  # Update x-axis label\n",
    "plt.xticks(rotation=0)  # Ensure month labels are horizontal\n",
    "plt.grid(axis='y')\n",
    "max_sales = monthly_sales.max() * 1.1\n",
    "plt.ylim(bottom=0, top=max_sales)\n",
    "for i, v in enumerate(monthly_sales):\n",
    "    ax.text(i, v + v * 0.05, f\"{v:.0f}\", ha='center',va = 'bottom', fontsize=10, fontweight='bold', clip_box=ax.bbox)\n",
    "formatter = ScalarFormatter(useMathText=True)\n",
    "formatter.set_scientific(False)\n",
    "plt.gca().yaxis.set_major_formatter(formatter)\n",
    "plt.show()\n"
   ]
  },
  {
   "cell_type": "markdown",
   "id": "28bd1c10-4d83-4794-b705-e0b02759beb1",
   "metadata": {},
   "source": [
    "### Yearly Sales Overview -"
   ]
  },
  {
   "cell_type": "code",
   "execution_count": 154,
   "id": "b2441b0e-d14b-4679-9765-7149a18f9b50",
   "metadata": {},
   "outputs": [
    {
     "data": {
      "text/plain": [
       "Date\n",
       "22    78590170.25\n",
       "Name: Amount, dtype: float64"
      ]
     },
     "execution_count": 154,
     "metadata": {},
     "output_type": "execute_result"
    }
   ],
   "source": [
    "yearly_sales = df.resample('Y', on='Date')['Amount'].sum()\n",
    "yearly_sales.index =yearly_sales.index.strftime('%y')\n",
    "yearly_sales"
   ]
  },
  {
   "cell_type": "code",
   "execution_count": null,
   "id": "cb6ce145-ff78-49bf-b430-e53aa3a9a5cb",
   "metadata": {},
   "outputs": [],
   "source": []
  }
 ],
 "metadata": {
  "kernelspec": {
   "display_name": "Python 3 (ipykernel)",
   "language": "python",
   "name": "python3"
  },
  "language_info": {
   "codemirror_mode": {
    "name": "ipython",
    "version": 3
   },
   "file_extension": ".py",
   "mimetype": "text/x-python",
   "name": "python",
   "nbconvert_exporter": "python",
   "pygments_lexer": "ipython3",
   "version": "3.11.7"
  }
 },
 "nbformat": 4,
 "nbformat_minor": 5
}
